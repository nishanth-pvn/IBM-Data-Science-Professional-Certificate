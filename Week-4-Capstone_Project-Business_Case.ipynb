{
 "cells": [
  {
   "cell_type": "markdown",
   "metadata": {},
   "source": [
    "# Business Case\n",
    "\n",
    "\"La Milonguita\" is a chain of restaurantes located in Buenos Aires, Argentina, it offers tipical foods of that country.\n",
    "Argentine cuisine has influences of Spain an Italy, and has incorporated Indigenous components also.\n",
    "The owners of this restaurantes wants to expand their chain to Europe and they are very interested in establish a new restaurant in Madrid, Spain.  \n",
    "  \n",
    "Madrid it's a big city with more than 3 millions inhabitants and a metropolitan area population of about 6.5 millions.\n",
    "It's composed by more than one hundred neighborhoods, with different characteristics. In order to get directions about where to establish their first restaurante in Madrid, the owners of \"La Milonguita\" has asked us to do an study of different places of the city.  \n",
    "\n",
    "Marketing consultants has determined that we must pay special attention to entertainment services, because they are considered attractive to potential customers. In example it's very common that people go to the restorant after the teatre or other kind of cultural activity.  \n",
    "We also must take into account other food services offerings that cuold be considered in some cases rivalry or, in other cases, complementary to a Argentinian Restaurante.  \n",
    "  \n",
    "Our project will consist in obtain information of the neighborhoods and make recomendations about best places to start the chain expansion.  \n",
    "  "
   ]
  }
 ],
 "metadata": {
  "kernelspec": {
   "display_name": "Python 3",
   "language": "python",
   "name": "python3"
  },
  "language_info": {
   "codemirror_mode": {
    "name": "ipython",
    "version": 3
   },
   "file_extension": ".py",
   "mimetype": "text/x-python",
   "name": "python",
   "nbconvert_exporter": "python",
   "pygments_lexer": "ipython3",
   "version": "3.7.0"
  }
 },
 "nbformat": 4,
 "nbformat_minor": 2
}
